{
  "nbformat": 4,
  "nbformat_minor": 0,
  "metadata": {
    "colab": {
      "name": "vape-youtube-conversion.ipynb",
      "provenance": [],
      "private_outputs": true,
      "collapsed_sections": [],
      "authorship_tag": "ABX9TyNGG0q6tcaHI+HXk+yNK9O+",
      "include_colab_link": true
    },
    "kernelspec": {
      "name": "python3",
      "display_name": "Python 3"
    }
  },
  "cells": [
    {
      "cell_type": "markdown",
      "metadata": {
        "id": "view-in-github",
        "colab_type": "text"
      },
      "source": [
        "<a href=\"https://colab.research.google.com/github/dgauraang/vape-classification/blob/master/vape_youtube_conversion.ipynb\" target=\"_parent\"><img src=\"https://colab.research.google.com/assets/colab-badge.svg\" alt=\"Open In Colab\"/></a>"
      ]
    },
    {
      "cell_type": "code",
      "metadata": {
        "id": "bE1djeWPLavC"
      },
      "source": [
        "!git clone https://github.com/dgauraang/vape-classification/\n",
        "%cd vape-classification\n",
        "!mkdir -p 'video_classification_models'\n",
        "!mkdir -p 'channel_classification_models'\n",
        "!mkdir -p 'video_classification_data' \n",
        "!mkdir -p 'channel_classification_data'\n",
        "!mkdir -p 'video_classification_results'\n",
        "!mkdir -p 'channel_classification_results'\n",
        "!mkdir -p 'classification-record'\n",
        "# !unzip './video_classification_data/transcripts.zip'"
      ],
      "execution_count": null,
      "outputs": []
    },
    {
      "cell_type": "code",
      "metadata": {
        "id": "n9ZT_Q6uNkRe"
      },
      "source": [
        "# ENTER VIDEO INDEX AND NEW LABELS TO CHANGE DATA \n",
        "\n",
        "from IPython.display import clear_output\n",
        "import pandas as pd\n",
        "import openpyxl\n",
        "\n",
        "pd.set_option('display.max_columns', None)\n",
        "pd.set_option('display.max_rows', None)\n",
        "\n",
        "model_1_data = pd.read_csv('/content/vape-classification/video_classification_data/model-1-data.csv')\n",
        "model_2_data = pd.read_csv('/content/vape-classification/video_classification_data/model-2-data.csv')\n",
        "model_3_data = pd.read_csv('/content/vape-classification/video_classification_data/model-3-data.csv')\n",
        "model_4_data = pd.read_csv('/content/vape-classification/video_classification_data/model-4-data.csv')\n",
        "\n",
        "\n",
        "def change():\n",
        "    print('Enter video index to change labels, s to save and update labels and q to quit')\n",
        "    query_idx = input()\n",
        "    if query_idx == 'q':\n",
        "        return -1\n",
        "    elif query_idx == 's':\n",
        "        model_1_data.to_csv('/content/vape-classification/alex_test/model-1-data-test.csv')\n",
        "        model_2_data.to_csv('/content/vape-classification/alex_test/model-2-data-test.csv')\n",
        "        model_3_data.to_csv('/content/vape-classification/alex_test/model-3-data-test.csv')\n",
        "        model_4_data.to_csv('/content/vape-classification/alex_test/model-4-data-test.csv')\n",
        "        return -2\n",
        "    query_idx = int(query_idx)\n",
        "    print(model_1_data.at[query_idx, 'Video_Title'])\n",
        "    print(model_1_data.at[query_idx, 'Video_URL'])\n",
        "    labels = []\n",
        "\n",
        "    print(\n",
        "        '| Product Review: 0 | Health Info: 1 | Tv Clips: 2 |\\n| Modifying E-Cigs: 3 | Vape Tricks: 4 | Marijuana: 5 |\\n| EVALI: 6 | Informational: 7 | Covid: 8 |\\n| Other Vape-related Theme: 9 | Other non Vape-related Theme: 10 |')\n",
        "    labels.append([input('Model 1: ')])\n",
        "    print(\n",
        "        '| Cigalike: 0 | E-Liquid: 1 | Vaping Kit: 2 |\\n| Box Mod: 3 | Vape Pen: 4 | Pod System: 5 |\\n| Disposable: 6 | Vape Subscription: 7 |\\n| Other: 8 | No specific Product: 9 |')\n",
        "\n",
        "    labels.append([input('Model 2: ')])\n",
        "    print(\n",
        "        '| In Person Store: 0 | Online Store: 1 |\\n| Vape Enthusist: 2 | Medical Community: 3 |\\n| News Channel: 4 | Private User: 5 | Other: 6 |')\n",
        "\n",
        "    labels.append([input('Model 3: ')])\n",
        "    print('| Offers Discount: 0 | Has an external purchasing link: 1 |\\n| Other Sales Promotion: 2 | No Promotion: 3 |')\n",
        "\n",
        "    labels.append([input('Model 4: ')])\n",
        "\n",
        "    for task, label in enumerate(labels):\n",
        "        for pos in ' '.join(label).split():\n",
        "            if task == 0:\n",
        "                model_1_data.at[query_idx, 'has_label_' + str(pos)] = True\n",
        "            elif task == 1:\n",
        "                model_2_data.at[query_idx, 'has_label_' + str(pos)] = True\n",
        "            elif task == 2:\n",
        "                model_3_data.at[query_idx, 'has_label_' + str(pos)] = True\n",
        "            elif task == 3:\n",
        "                model_4_data.at[query_idx, 'has_label_' + str(pos)] = True\n",
        "    return None\n",
        "\n",
        "\n",
        "while True:\n",
        "    change()\n",
        "    if change() is not None:\n",
        "        break\n",
        "    else:\n",
        "        for i in range(5):\n",
        "            print()\n",
        "        clear_output()\n"
      ],
      "execution_count": null,
      "outputs": []
    },
    {
      "cell_type": "code",
      "metadata": {
        "id": "Eaov24nIQ5j1"
      },
      "source": [
        "# GENERATE READABLE EXCEL SHEET WITH DATA "
      ],
      "execution_count": null,
      "outputs": []
    },
    {
      "cell_type": "code",
      "metadata": {
        "id": "EQ1SC3TnWx6m"
      },
      "source": [
        "# UPLOAD EDITED CSV TO GITHUB\n"
      ],
      "execution_count": null,
      "outputs": []
    }
  ]
}